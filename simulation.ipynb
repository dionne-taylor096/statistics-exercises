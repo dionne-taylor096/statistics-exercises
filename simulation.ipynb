{
 "cells": [
  {
   "cell_type": "markdown",
   "id": "98efa5b3",
   "metadata": {},
   "source": [
    "# Simulation Exercises"
   ]
  },
  {
   "cell_type": "markdown",
   "id": "b485b236",
   "metadata": {},
   "source": [
    "> How likely is it that you roll doubles when rolling two dice?"
   ]
  },
  {
   "cell_type": "code",
   "execution_count": 1,
   "id": "906004e0",
   "metadata": {},
   "outputs": [],
   "source": [
    "import numpy as np\n",
    "\n",
    "# set the number simulations to run \n",
    "num_simulations = 1000000\n",
    "\n",
    "# generate a matrix of random integers representing rolls of the dice\n",
    "rolls = np.random.randint(1, 7, size=(num_simulations, 2))\n",
    "\n",
    "# counts the number of doubles in a simulated roll, \n",
    "# rolls contains the results of the sim rolls in a array\n",
    "# rolls[:] selects all values in the column specified, \n",
    "# creates a boolean array that evaluate True when both columns have equal values\n",
    "num_doubles = np.count_nonzero(rolls[:, 0] == rolls[:, 1])\n",
    "\n",
    "# calculates the likelihood(probability)\n",
    "likelihood = num_doubles / num_simulations"
   ]
  },
  {
   "cell_type": "code",
   "execution_count": 2,
   "id": "3bb790ef",
   "metadata": {
    "scrolled": true
   },
   "outputs": [
    {
     "data": {
      "text/plain": [
       "0.166225"
      ]
     },
     "execution_count": 2,
     "metadata": {},
     "output_type": "execute_result"
    }
   ],
   "source": [
    "likelihood"
   ]
  },
  {
   "cell_type": "markdown",
   "id": "7e1de5e9",
   "metadata": {},
   "source": [
    "> If you flip 8 coins, what is the probability of getting exactly 3 heads? What is the probability of getting more than 3 heads?"
   ]
  },
  {
   "cell_type": "code",
   "execution_count": 9,
   "id": "e84c7589",
   "metadata": {},
   "outputs": [],
   "source": [
    "# define parameters for n(coin flips), k(probability of exactly 3 heads), and p(probability of a single flip)\n",
    "\n",
    "n = 8\n",
    "k = 3\n",
    "p = 0.5\n",
    "\n",
    "# simulate 1 million trials of 8 coin flips with probability of 0.5\n",
    "outcomes = np.random.binomial(n, p, size=10**6)\n",
    "\n",
    "# calculates the proportion of trials that have exactly 'k' head using np.mean\n",
    "# creates a boolean arrray\n",
    "prob_3_heads = np.mean(outcomes == k)"
   ]
  },
  {
   "cell_type": "code",
   "execution_count": 10,
   "id": "cba825b8",
   "metadata": {},
   "outputs": [
    {
     "data": {
      "text/plain": [
       "0.218614"
      ]
     },
     "execution_count": 10,
     "metadata": {},
     "output_type": "execute_result"
    }
   ],
   "source": [
    "prob_3_heads"
   ]
  },
  {
   "cell_type": "code",
   "execution_count": 11,
   "id": "1ccf94e2",
   "metadata": {},
   "outputs": [],
   "source": [
    "# define parameters for n(coin flips), k(probability of more than 3 heads), and p(probability of a head on a single flip)\n",
    "\n",
    "n = 8\n",
    "k = 3\n",
    "p = 0.5\n",
    "\n",
    "# simulate 1 million trials of 8 coin flips with probability of 0.5\n",
    "outcomes = np.random.binomial(n, p, size=10**6)\n",
    "\n",
    "# calculates the proportion of trials that have outcome > 'k' head using np.mean\n",
    "# creates a boolean arrray\n",
    "prob_more_than_3_heads = np.mean(outcomes > k)"
   ]
  },
  {
   "cell_type": "code",
   "execution_count": 12,
   "id": "609c8710",
   "metadata": {},
   "outputs": [
    {
     "data": {
      "text/plain": [
       "0.636788"
      ]
     },
     "execution_count": 12,
     "metadata": {},
     "output_type": "execute_result"
    }
   ],
   "source": [
    "prob_more_than_3_heads"
   ]
  },
  {
   "cell_type": "markdown",
   "id": "612a587f",
   "metadata": {},
   "source": [
    "> There are approximitely 3 web development cohorts for every 1 data science cohort at Codeup. Assuming that Codeup randomly selects an alumni to put on a billboard, what are the odds that the two billboards I drive past both have data science students on them?"
   ]
  },
  {
   "cell_type": "code",
   "execution_count": 42,
   "id": "63991273",
   "metadata": {},
   "outputs": [],
   "source": [
    "import numpy as np\n",
    "import pandas as pd\n",
    "\n",
    "# define the alumni cohorts\n",
    "cohorts = ['Web Dev', 'Web Dev', 'Web Dev', 'Data Science']\n",
    "\n",
    "# set the number of trials\n",
    "num_trials = 100000\n",
    "\n",
    "# randomly select alumni cohorts for two billboards\n",
    "billboards = np.random.choice(cohorts, size=(num_trials, 2))\n",
    "\n",
    "# count the number of times we see two data science billboards\n",
    "num_data_science = np.sum(np.all(billboards == 'Data Science', axis=1))\n",
    "\n",
    "# calculate the probability and odds of seeing two data science billboards\n",
    "#odds = probability / (1 - probability)\n",
    "probability = num_data_science / num_trials"
   ]
  },
  {
   "cell_type": "code",
   "execution_count": 41,
   "id": "25aecd7a",
   "metadata": {},
   "outputs": [
    {
     "data": {
      "text/plain": [
       "0.0612"
      ]
     },
     "execution_count": 41,
     "metadata": {},
     "output_type": "execute_result"
    }
   ],
   "source": [
    "probability"
   ]
  },
  {
   "cell_type": "markdown",
   "id": "6acf9758",
   "metadata": {},
   "source": [
    "> Codeup students buy, on average, 3 poptart packages with a standard deviation of 1.5 a day from the snack vending machine. If on monday the machine is restocked with 17 poptart packages, how likely is it that I will be able to buy some poptarts on Friday afternoon? (Remember, if you have mean and standard deviation, use the np.random.normal) You'll need to make a judgement call on how to handle some of your values"
   ]
  },
  {
   "cell_type": "code",
   "execution_count": 24,
   "id": "ccb4d88b",
   "metadata": {},
   "outputs": [],
   "source": [
    "import numpy as np\n",
    "\n",
    "# parameters\n",
    "mean = 3\n",
    "std_dev = 1.5\n",
    "restocked = 17\n",
    "days = 5\n",
    "\n",
    "# simulate the number of poptart packages bought each day\n",
    "poptarts_per_day = np.round(np.random.normal(mean, std_dev, size=(100000, days)))\n",
    "\n",
    "# calculate the total number of poptart packages bought during the week\n",
    "total_poptarts_bought = np.mean(poptarts_per_day, axis=1) * days\n",
    "\n",
    "# set any negative values to zero\n",
    "total_poptarts_bought[total_poptarts_bought < 0] = 0\n",
    "\n",
    "# calculate the probability of being able to buy some poptarts on Friday afternoon\n",
    "prob = np.mean((restocked - total_poptarts_bought) > 0)"
   ]
  },
  {
   "cell_type": "code",
   "execution_count": 25,
   "id": "801b0d96",
   "metadata": {},
   "outputs": [
    {
     "data": {
      "text/plain": [
       "array([[ 3.,  1.,  5.,  4.,  5.],\n",
       "       [ 4., -1.,  2.,  4.,  6.],\n",
       "       [ 6.,  2.,  2.,  2.,  3.],\n",
       "       ...,\n",
       "       [ 1.,  3.,  1.,  2.,  1.],\n",
       "       [ 2.,  1.,  4.,  3.,  3.],\n",
       "       [ 3.,  2.,  4.,  3.,  2.]])"
      ]
     },
     "execution_count": 25,
     "metadata": {},
     "output_type": "execute_result"
    }
   ],
   "source": [
    "poptarts_per_day "
   ]
  },
  {
   "cell_type": "code",
   "execution_count": 26,
   "id": "d572f3d6",
   "metadata": {},
   "outputs": [
    {
     "data": {
      "text/plain": [
       "0.66842"
      ]
     },
     "execution_count": 26,
     "metadata": {},
     "output_type": "execute_result"
    }
   ],
   "source": [
    "prob"
   ]
  },
  {
   "cell_type": "markdown",
   "id": "dbc3ca67",
   "metadata": {},
   "source": [
    "> Compare Heights: Men have an average height of 178 cm and standard deviation of 8cm.\n",
    "Women have a mean of 170, sd = 6cm. Since you have means and standard deviations, you can use np.random.normal to generate observations. If a man and woman are chosen at random, what is the likelihood the woman is taller than the man?"
   ]
  },
  {
   "cell_type": "code",
   "execution_count": 15,
   "id": "7b77a8e2",
   "metadata": {},
   "outputs": [],
   "source": [
    "# simulate men and women heights \n",
    "# draw random samples from a normal (Gaussian) distribution.\n",
    "men_heights = np.random.normal(178, 8, size=100000)\n",
    "women_heights = np.random.normal(170, 6, size=100000)\n",
    "\n",
    "# probability of taller women based on the mean of data where women heights > men heights\n",
    "prob_taller_woman = np.mean(women_heights > men_heights)"
   ]
  },
  {
   "cell_type": "code",
   "execution_count": 16,
   "id": "9776ec1f",
   "metadata": {
    "scrolled": true
   },
   "outputs": [
    {
     "data": {
      "text/plain": [
       "0.21288"
      ]
     },
     "execution_count": 16,
     "metadata": {},
     "output_type": "execute_result"
    }
   ],
   "source": [
    "prob_taller_woman"
   ]
  },
  {
   "cell_type": "markdown",
   "id": "8924ae4c",
   "metadata": {},
   "source": [
    "> When installing anaconda on a student's computer, there's a 1 in 250 chance that the download is corrupted and the installation fails. What are the odds that after having 50 students download anaconda, no one has an installation issue? 100 students?"
   ]
  },
  {
   "cell_type": "code",
   "execution_count": 43,
   "id": "a007c100",
   "metadata": {},
   "outputs": [],
   "source": [
    "import numpy as np\n",
    "\n",
    "# number of students()\n",
    "n = 150\n",
    "# probability of failed installation\n",
    "p = .004 # 1 in 250 chance\n",
    "# number of successful installations\n",
    "k = 0\n",
    "# number of simulations\n",
    "num_sims = 10000\n",
    "\n",
    "# generate array of random integers representing installation status for each student\n",
    "installations = np.random.binomial(1, p, size=(num_sims, n))\n",
    "\n",
    "# calculate the number of successful installations for each simulation\n",
    "successes = np.sum(installations, axis=1)\n",
    "\n",
    "# calculate the probability of all successes in n trials for each simulation\n",
    "prob_success = np.power(1-p, n)\n",
    "\n",
    "# calculate the probability of no installation issue in n trials for each simulation\n",
    "prob_no_issue = np.round(1 - prob_success, 6)\n",
    "\n",
    "# calculate the probability of successful installation for each simulation\n",
    "prob_install_success = np.power(p, successes)\n",
    "\n",
    "# calculate the probability of failed installation for each simulation\n",
    "prob_no_issue  = np.power(1-p, n-successes)\n",
    "\n",
    "# calculate the probability of at least one failed installation for each simulation\n",
    "prob_at_least_one_fail = 1 - prob_install_success\n",
    "\n",
    "# calculate the overall probability of no installation issue\n",
    "overall_prob_no_issue = np.round(np.mean(prob_no_issue), 6)\n",
    "\n",
    "# calculate the overall probability of at least one failed installation\n",
    "overall_prob_at_least_one_fail = np.round(np.mean(prob_at_least_one_fail), 6)"
   ]
  },
  {
   "cell_type": "code",
   "execution_count": 44,
   "id": "9c112b9c",
   "metadata": {},
   "outputs": [
    {
     "data": {
      "text/plain": [
       "0.451848"
      ]
     },
     "execution_count": 44,
     "metadata": {},
     "output_type": "execute_result"
    }
   ],
   "source": [
    "overall_prob_no_issue "
   ]
  },
  {
   "cell_type": "code",
   "execution_count": 45,
   "id": "a4facb3f",
   "metadata": {},
   "outputs": [
    {
     "data": {
      "text/plain": [
       "0.45974"
      ]
     },
     "execution_count": 45,
     "metadata": {},
     "output_type": "execute_result"
    }
   ],
   "source": [
    "overall_prob_at_least_one_fail"
   ]
  },
  {
   "cell_type": "markdown",
   "id": "3ef5cb77",
   "metadata": {},
   "source": [
    "> There's a 70% chance on any given day that there will be at least one food truck at Travis Park. However, you haven't seen a food truck there in 3 days. How unlikely is this?How likely is it that a food truck will show up sometime this week?"
   ]
  },
  {
   "cell_type": "code",
   "execution_count": 47,
   "id": "6446ca36",
   "metadata": {},
   "outputs": [],
   "source": [
    "import numpy as np\n",
    "import pandas as pd\n",
    "\n",
    "# Define the probability of seeing a food truck on any given day\n",
    "prob_truck_per_day = 0.7\n",
    "\n",
    "# Define the number of simulations/trials\n",
    "num_sims = 100\n",
    "\n",
    "# Simulate the number of days before seeing a food truck\n",
    "days_to_truck = np.random.geometric(p=prob_truck_per_day, size=num_sims)\n",
    "\n",
    "# Calculate the probability of seeing a food truck at least once in a week\n",
    "prob_truck_per_week = 1 - np.power(1 - prob_truck_per_day, 7)\n",
    "\n",
    "# Convert the days to a pandas Series for ease of manipulation\n",
    "days_to_truck = pd.Series(days_to_truck)\n",
    "\n",
    "# Calculate the probability of not seeing a food truck in 3 days\n",
    "prob_no_truck_3_days = np.power(1 - prob_truck_per_day, 3)\n",
    "\n",
    "# Calculate the probability of seeing a food truck within the next 5 days\n",
    "prob_truck_next_2_days = 1 - np.power(1 - prob_truck_per_day, 5)"
   ]
  },
  {
   "cell_type": "code",
   "execution_count": 48,
   "id": "fdb42a74",
   "metadata": {},
   "outputs": [
    {
     "data": {
      "text/plain": [
       "0.9997813"
      ]
     },
     "execution_count": 48,
     "metadata": {},
     "output_type": "execute_result"
    }
   ],
   "source": [
    "prob_truck_per_week "
   ]
  },
  {
   "cell_type": "code",
   "execution_count": 49,
   "id": "90b226df",
   "metadata": {},
   "outputs": [
    {
     "data": {
      "text/plain": [
       "0.027000000000000014"
      ]
     },
     "execution_count": 49,
     "metadata": {},
     "output_type": "execute_result"
    }
   ],
   "source": [
    "prob_no_truck_3_days"
   ]
  },
  {
   "cell_type": "code",
   "execution_count": 50,
   "id": "9b209ae4",
   "metadata": {},
   "outputs": [
    {
     "data": {
      "text/plain": [
       "0.99757"
      ]
     },
     "execution_count": 50,
     "metadata": {},
     "output_type": "execute_result"
    }
   ],
   "source": [
    "prob_truck_next_2_days "
   ]
  },
  {
   "cell_type": "code",
   "execution_count": 51,
   "id": "ee0075f4",
   "metadata": {},
   "outputs": [],
   "source": [
    "days = ['food truck', 'no food truck']\n",
    "p_truck = [0.7, 0.3] # Probability of having a food truck and not having a food truck\n",
    "num_weeks = 10000 # Number of weeks to simulate\n",
    "no_truck_weeks = np.sum(np.random.choice(days, size=(num_weeks, 7), p=p_truck) == 'no food truck', axis=1) # Number of weeks with no food trucks\n",
    "prob_no_trucks = np.sum(no_truck_weeks == 7)/num_weeks # Probability of no food trucks in a week"
   ]
  },
  {
   "cell_type": "code",
   "execution_count": 52,
   "id": "24e92e99",
   "metadata": {},
   "outputs": [
    {
     "data": {
      "text/plain": [
       "0.0004"
      ]
     },
     "execution_count": 52,
     "metadata": {},
     "output_type": "execute_result"
    }
   ],
   "source": [
    "prob_no_trucks"
   ]
  },
  {
   "cell_type": "markdown",
   "id": "49e6c3e7",
   "metadata": {},
   "source": [
    "> If 23 people are in the same room, what are the odds that two of them share a birthday? What if it's 20 people? 40?"
   ]
  },
  {
   "cell_type": "code",
   "execution_count": 53,
   "id": "2463775c",
   "metadata": {
    "scrolled": true
   },
   "outputs": [],
   "source": [
    "num_sims = 10000\n",
    "num_people = 35\n",
    "\n",
    "birthdays = np.random.randint(0, 366, size=(num_sims, num_people))\n",
    "unique_birthdays = np.unique(birthdays, axis=1)\n",
    "prob_shared_birthday = 1 - np.prod(1 - np.arange(num_people) / 365)"
   ]
  },
  {
   "cell_type": "code",
   "execution_count": 54,
   "id": "5008550c",
   "metadata": {},
   "outputs": [
    {
     "data": {
      "text/plain": [
       "0.8143832388747152"
      ]
     },
     "execution_count": 54,
     "metadata": {},
     "output_type": "execute_result"
    }
   ],
   "source": [
    "prob_shared_birthday"
   ]
  },
  {
   "cell_type": "code",
   "execution_count": 56,
   "id": "2bfad371",
   "metadata": {},
   "outputs": [],
   "source": [
    "birthdays = pd.DataFrame(birthdays)"
   ]
  },
  {
   "cell_type": "code",
   "execution_count": 57,
   "id": "e7b96d23",
   "metadata": {},
   "outputs": [
    {
     "data": {
      "text/html": [
       "<div>\n",
       "<style scoped>\n",
       "    .dataframe tbody tr th:only-of-type {\n",
       "        vertical-align: middle;\n",
       "    }\n",
       "\n",
       "    .dataframe tbody tr th {\n",
       "        vertical-align: top;\n",
       "    }\n",
       "\n",
       "    .dataframe thead th {\n",
       "        text-align: right;\n",
       "    }\n",
       "</style>\n",
       "<table border=\"1\" class=\"dataframe\">\n",
       "  <thead>\n",
       "    <tr style=\"text-align: right;\">\n",
       "      <th></th>\n",
       "      <th>0</th>\n",
       "      <th>1</th>\n",
       "      <th>2</th>\n",
       "      <th>3</th>\n",
       "      <th>4</th>\n",
       "      <th>5</th>\n",
       "      <th>6</th>\n",
       "      <th>7</th>\n",
       "      <th>8</th>\n",
       "      <th>9</th>\n",
       "      <th>...</th>\n",
       "      <th>25</th>\n",
       "      <th>26</th>\n",
       "      <th>27</th>\n",
       "      <th>28</th>\n",
       "      <th>29</th>\n",
       "      <th>30</th>\n",
       "      <th>31</th>\n",
       "      <th>32</th>\n",
       "      <th>33</th>\n",
       "      <th>34</th>\n",
       "    </tr>\n",
       "  </thead>\n",
       "  <tbody>\n",
       "    <tr>\n",
       "      <th>0</th>\n",
       "      <td>107</td>\n",
       "      <td>99</td>\n",
       "      <td>9</td>\n",
       "      <td>273</td>\n",
       "      <td>364</td>\n",
       "      <td>355</td>\n",
       "      <td>14</td>\n",
       "      <td>61</td>\n",
       "      <td>93</td>\n",
       "      <td>200</td>\n",
       "      <td>...</td>\n",
       "      <td>349</td>\n",
       "      <td>32</td>\n",
       "      <td>296</td>\n",
       "      <td>118</td>\n",
       "      <td>224</td>\n",
       "      <td>3</td>\n",
       "      <td>62</td>\n",
       "      <td>198</td>\n",
       "      <td>144</td>\n",
       "      <td>79</td>\n",
       "    </tr>\n",
       "    <tr>\n",
       "      <th>1</th>\n",
       "      <td>182</td>\n",
       "      <td>162</td>\n",
       "      <td>342</td>\n",
       "      <td>60</td>\n",
       "      <td>337</td>\n",
       "      <td>357</td>\n",
       "      <td>55</td>\n",
       "      <td>314</td>\n",
       "      <td>246</td>\n",
       "      <td>13</td>\n",
       "      <td>...</td>\n",
       "      <td>264</td>\n",
       "      <td>331</td>\n",
       "      <td>169</td>\n",
       "      <td>290</td>\n",
       "      <td>153</td>\n",
       "      <td>137</td>\n",
       "      <td>31</td>\n",
       "      <td>15</td>\n",
       "      <td>248</td>\n",
       "      <td>341</td>\n",
       "    </tr>\n",
       "    <tr>\n",
       "      <th>2</th>\n",
       "      <td>102</td>\n",
       "      <td>141</td>\n",
       "      <td>178</td>\n",
       "      <td>269</td>\n",
       "      <td>158</td>\n",
       "      <td>206</td>\n",
       "      <td>171</td>\n",
       "      <td>240</td>\n",
       "      <td>21</td>\n",
       "      <td>282</td>\n",
       "      <td>...</td>\n",
       "      <td>36</td>\n",
       "      <td>103</td>\n",
       "      <td>116</td>\n",
       "      <td>12</td>\n",
       "      <td>357</td>\n",
       "      <td>312</td>\n",
       "      <td>329</td>\n",
       "      <td>350</td>\n",
       "      <td>274</td>\n",
       "      <td>152</td>\n",
       "    </tr>\n",
       "    <tr>\n",
       "      <th>3</th>\n",
       "      <td>215</td>\n",
       "      <td>316</td>\n",
       "      <td>26</td>\n",
       "      <td>201</td>\n",
       "      <td>51</td>\n",
       "      <td>88</td>\n",
       "      <td>111</td>\n",
       "      <td>289</td>\n",
       "      <td>69</td>\n",
       "      <td>283</td>\n",
       "      <td>...</td>\n",
       "      <td>278</td>\n",
       "      <td>229</td>\n",
       "      <td>283</td>\n",
       "      <td>88</td>\n",
       "      <td>5</td>\n",
       "      <td>318</td>\n",
       "      <td>175</td>\n",
       "      <td>43</td>\n",
       "      <td>59</td>\n",
       "      <td>302</td>\n",
       "    </tr>\n",
       "    <tr>\n",
       "      <th>4</th>\n",
       "      <td>130</td>\n",
       "      <td>152</td>\n",
       "      <td>32</td>\n",
       "      <td>130</td>\n",
       "      <td>53</td>\n",
       "      <td>330</td>\n",
       "      <td>197</td>\n",
       "      <td>2</td>\n",
       "      <td>327</td>\n",
       "      <td>321</td>\n",
       "      <td>...</td>\n",
       "      <td>56</td>\n",
       "      <td>199</td>\n",
       "      <td>323</td>\n",
       "      <td>23</td>\n",
       "      <td>219</td>\n",
       "      <td>349</td>\n",
       "      <td>168</td>\n",
       "      <td>88</td>\n",
       "      <td>217</td>\n",
       "      <td>158</td>\n",
       "    </tr>\n",
       "    <tr>\n",
       "      <th>...</th>\n",
       "      <td>...</td>\n",
       "      <td>...</td>\n",
       "      <td>...</td>\n",
       "      <td>...</td>\n",
       "      <td>...</td>\n",
       "      <td>...</td>\n",
       "      <td>...</td>\n",
       "      <td>...</td>\n",
       "      <td>...</td>\n",
       "      <td>...</td>\n",
       "      <td>...</td>\n",
       "      <td>...</td>\n",
       "      <td>...</td>\n",
       "      <td>...</td>\n",
       "      <td>...</td>\n",
       "      <td>...</td>\n",
       "      <td>...</td>\n",
       "      <td>...</td>\n",
       "      <td>...</td>\n",
       "      <td>...</td>\n",
       "      <td>...</td>\n",
       "    </tr>\n",
       "    <tr>\n",
       "      <th>9995</th>\n",
       "      <td>365</td>\n",
       "      <td>113</td>\n",
       "      <td>159</td>\n",
       "      <td>265</td>\n",
       "      <td>254</td>\n",
       "      <td>35</td>\n",
       "      <td>145</td>\n",
       "      <td>40</td>\n",
       "      <td>59</td>\n",
       "      <td>255</td>\n",
       "      <td>...</td>\n",
       "      <td>13</td>\n",
       "      <td>251</td>\n",
       "      <td>134</td>\n",
       "      <td>102</td>\n",
       "      <td>234</td>\n",
       "      <td>124</td>\n",
       "      <td>110</td>\n",
       "      <td>67</td>\n",
       "      <td>279</td>\n",
       "      <td>178</td>\n",
       "    </tr>\n",
       "    <tr>\n",
       "      <th>9996</th>\n",
       "      <td>152</td>\n",
       "      <td>245</td>\n",
       "      <td>170</td>\n",
       "      <td>234</td>\n",
       "      <td>63</td>\n",
       "      <td>108</td>\n",
       "      <td>309</td>\n",
       "      <td>254</td>\n",
       "      <td>287</td>\n",
       "      <td>100</td>\n",
       "      <td>...</td>\n",
       "      <td>272</td>\n",
       "      <td>60</td>\n",
       "      <td>57</td>\n",
       "      <td>146</td>\n",
       "      <td>122</td>\n",
       "      <td>215</td>\n",
       "      <td>151</td>\n",
       "      <td>293</td>\n",
       "      <td>89</td>\n",
       "      <td>268</td>\n",
       "    </tr>\n",
       "    <tr>\n",
       "      <th>9997</th>\n",
       "      <td>322</td>\n",
       "      <td>334</td>\n",
       "      <td>264</td>\n",
       "      <td>72</td>\n",
       "      <td>363</td>\n",
       "      <td>14</td>\n",
       "      <td>172</td>\n",
       "      <td>20</td>\n",
       "      <td>350</td>\n",
       "      <td>126</td>\n",
       "      <td>...</td>\n",
       "      <td>105</td>\n",
       "      <td>60</td>\n",
       "      <td>157</td>\n",
       "      <td>177</td>\n",
       "      <td>221</td>\n",
       "      <td>251</td>\n",
       "      <td>295</td>\n",
       "      <td>341</td>\n",
       "      <td>182</td>\n",
       "      <td>73</td>\n",
       "    </tr>\n",
       "    <tr>\n",
       "      <th>9998</th>\n",
       "      <td>265</td>\n",
       "      <td>167</td>\n",
       "      <td>68</td>\n",
       "      <td>359</td>\n",
       "      <td>251</td>\n",
       "      <td>135</td>\n",
       "      <td>58</td>\n",
       "      <td>120</td>\n",
       "      <td>231</td>\n",
       "      <td>110</td>\n",
       "      <td>...</td>\n",
       "      <td>197</td>\n",
       "      <td>255</td>\n",
       "      <td>336</td>\n",
       "      <td>238</td>\n",
       "      <td>193</td>\n",
       "      <td>178</td>\n",
       "      <td>244</td>\n",
       "      <td>17</td>\n",
       "      <td>112</td>\n",
       "      <td>141</td>\n",
       "    </tr>\n",
       "    <tr>\n",
       "      <th>9999</th>\n",
       "      <td>68</td>\n",
       "      <td>210</td>\n",
       "      <td>226</td>\n",
       "      <td>365</td>\n",
       "      <td>104</td>\n",
       "      <td>226</td>\n",
       "      <td>326</td>\n",
       "      <td>259</td>\n",
       "      <td>216</td>\n",
       "      <td>330</td>\n",
       "      <td>...</td>\n",
       "      <td>168</td>\n",
       "      <td>99</td>\n",
       "      <td>331</td>\n",
       "      <td>31</td>\n",
       "      <td>337</td>\n",
       "      <td>68</td>\n",
       "      <td>350</td>\n",
       "      <td>121</td>\n",
       "      <td>52</td>\n",
       "      <td>148</td>\n",
       "    </tr>\n",
       "  </tbody>\n",
       "</table>\n",
       "<p>10000 rows × 35 columns</p>\n",
       "</div>"
      ],
      "text/plain": [
       "       0    1    2    3    4    5    6    7    8    9   ...   25   26   27  \\\n",
       "0     107   99    9  273  364  355   14   61   93  200  ...  349   32  296   \n",
       "1     182  162  342   60  337  357   55  314  246   13  ...  264  331  169   \n",
       "2     102  141  178  269  158  206  171  240   21  282  ...   36  103  116   \n",
       "3     215  316   26  201   51   88  111  289   69  283  ...  278  229  283   \n",
       "4     130  152   32  130   53  330  197    2  327  321  ...   56  199  323   \n",
       "...   ...  ...  ...  ...  ...  ...  ...  ...  ...  ...  ...  ...  ...  ...   \n",
       "9995  365  113  159  265  254   35  145   40   59  255  ...   13  251  134   \n",
       "9996  152  245  170  234   63  108  309  254  287  100  ...  272   60   57   \n",
       "9997  322  334  264   72  363   14  172   20  350  126  ...  105   60  157   \n",
       "9998  265  167   68  359  251  135   58  120  231  110  ...  197  255  336   \n",
       "9999   68  210  226  365  104  226  326  259  216  330  ...  168   99  331   \n",
       "\n",
       "       28   29   30   31   32   33   34  \n",
       "0     118  224    3   62  198  144   79  \n",
       "1     290  153  137   31   15  248  341  \n",
       "2      12  357  312  329  350  274  152  \n",
       "3      88    5  318  175   43   59  302  \n",
       "4      23  219  349  168   88  217  158  \n",
       "...   ...  ...  ...  ...  ...  ...  ...  \n",
       "9995  102  234  124  110   67  279  178  \n",
       "9996  146  122  215  151  293   89  268  \n",
       "9997  177  221  251  295  341  182   73  \n",
       "9998  238  193  178  244   17  112  141  \n",
       "9999   31  337   68  350  121   52  148  \n",
       "\n",
       "[10000 rows x 35 columns]"
      ]
     },
     "execution_count": 57,
     "metadata": {},
     "output_type": "execute_result"
    }
   ],
   "source": [
    "birthdays "
   ]
  },
  {
   "cell_type": "code",
   "execution_count": null,
   "id": "1d113556",
   "metadata": {},
   "outputs": [],
   "source": []
  }
 ],
 "metadata": {
  "kernelspec": {
   "display_name": "Python 3 (ipykernel)",
   "language": "python",
   "name": "python3"
  },
  "language_info": {
   "codemirror_mode": {
    "name": "ipython",
    "version": 3
   },
   "file_extension": ".py",
   "mimetype": "text/x-python",
   "name": "python",
   "nbconvert_exporter": "python",
   "pygments_lexer": "ipython3",
   "version": "3.9.13"
  }
 },
 "nbformat": 4,
 "nbformat_minor": 5
}
