{
 "cells": [
  {
   "cell_type": "code",
   "execution_count": 2,
   "id": "540ed56e",
   "metadata": {},
   "outputs": [
    {
     "name": "stdout",
     "output_type": "stream",
     "text": [
      "Do you want to save the dataset to a CSV file? (y/n) y\n",
      "Enter the file name: homelessness.csv\n",
      "The dataset has been saved to homelessness.csv.\n"
     ]
    }
   ],
   "source": [
    "import pandas as pd\n",
    "import numpy as np\n",
    "\n",
    "# Set random seed for reproducibility\n",
    "np.random.seed(123)\n",
    "\n",
    "# Define number of rows for dataset\n",
    "n = 1000\n",
    "\n",
    "# Generate random values for features\n",
    "age = np.random.randint(18, 80, size=n)\n",
    "gender = np.random.choice(['Male', 'Female'], size=n)\n",
    "race = np.random.choice(['White', 'Black', 'Asian', 'Hispanic', 'Other'], size=n)\n",
    "ethnicity = np.random.choice(['American', 'African', 'Asian', 'European', 'Hispanic', 'Other'], size=n)\n",
    "household_size = np.random.randint(1, 10, size=n)\n",
    "marital_status = np.random.choice(['Single', 'Married', 'Divorced', 'Widowed'], size=n)\n",
    "education_level = np.random.choice(['High School', 'College', 'Graduate'], size=n, p=[0.4, 0.4, 0.2])\n",
    "income = np.random.randint(10000, 150000, size=n)\n",
    "employment_status = np.random.choice(['Employed', 'Unemployed', 'Retired'], size=n, p=[0.6, 0.3, 0.1])\n",
    "housing_type = np.random.choice(['Renting', 'Owning', 'Homeless'], size=n, p=[0.7, 0.2, 0.1])\n",
    "length_of_time_in_current_housing = np.random.choice(['<6 months', '6 months - 1 year', '1-3 years', '3-5 years', '5+ years'], size=n, p=[0.1, 0.3, 0.3, 0.2, 0.1])\n",
    "eviction_history = np.random.choice(['Yes', 'No'], size=n, p=[0.2, 0.8])\n",
    "credit_history = np.random.choice(['Poor', 'Fair', 'Good', 'Excellent'], size=n, p=[0.2, 0.3, 0.3, 0.2])\n",
    "mental_illness = np.random.choice(['Yes', 'No'], size=n, p=[0.2, 0.8])\n",
    "physical_illness = np.random.choice(['Yes', 'No'], size=n, p=[0.3, 0.7])\n",
    "substance_abuse = np.random.choice(['Yes', 'No'], size=n, p=[0.2, 0.8])\n",
    "disability = np.random.choice(['Yes', 'No'], size=n, p=[0.2, 0.8])\n",
    "social_support = np.random.choice(['None', 'Family', 'Friends', 'Professional'], size=n, p=[0.1, 0.4, 0.3, 0.2])\n",
    "military_service = np.random.choice(['Yes', 'No'], size=n, p=[0.1, 0.9])\n",
    "\n",
    "# Generate target variable\n",
    "homelessness = np.random.choice([0, 1], size=n, p=[0.9, 0.1])\n",
    "\n",
    "# Combine all features into a dataframe\n",
    "data = pd.DataFrame({\n",
    "    'Age': age,\n",
    "    'Gender': gender,\n",
    "    'Race': race,\n",
    "    'Ethnicity': ethnicity,\n",
    "    'Household Size': household_size,\n",
    "    'Marital Status': marital_status,\n",
    "    'Education Level': education_level,\n",
    "    'Income': income,\n",
    "    'Employment Status': employment_status,\n",
    "    'Housing Type': housing_type,\n",
    "    'Length of Time in Current Housing': length_of_time_in_current_housing,\n",
    "    'Eviction History': eviction_history,\n",
    "    'Credit History': credit_history,\n",
    "    'Mental Illness': mental_illness,\n",
    "    'Physical Illness': physical_illness,\n",
    "    'Substance Abuse': substance_abuse,\n",
    "    'Disability': disability,\n",
    "    'Social Support': social_support,\n",
    "    'Military Service': military_service,\n",
    "    'Homelessness': homelessness\n",
    "})\n",
    "\n",
    "# Preview the first few rows of the dataset\n",
    "data.head(12)\n",
    "\n",
    "# Save the DataFrame to a CSV file (optional)\n",
    "save_to_csv = input('Do you want to save the dataset to a CSV file? (y/n) ')\n",
    "if save_to_csv.lower() == 'y':\n",
    "    file_name = input('Enter the file name: ')\n",
    "    data.to_csv(file_name, index=True)\n",
    "    print(f'The dataset has been saved to {file_name}.')\n",
    "else:\n",
    "    print('The dataset has not been saved to a CSV file.')"
   ]
  },
  {
   "cell_type": "code",
   "execution_count": null,
   "id": "aeee8464",
   "metadata": {},
   "outputs": [],
   "source": []
  }
 ],
 "metadata": {
  "kernelspec": {
   "display_name": "Python 3 (ipykernel)",
   "language": "python",
   "name": "python3"
  },
  "language_info": {
   "codemirror_mode": {
    "name": "ipython",
    "version": 3
   },
   "file_extension": ".py",
   "mimetype": "text/x-python",
   "name": "python",
   "nbconvert_exporter": "python",
   "pygments_lexer": "ipython3",
   "version": "3.9.13"
  }
 },
 "nbformat": 4,
 "nbformat_minor": 5
}
