{
 "cells": [
  {
   "cell_type": "code",
   "execution_count": 9,
   "id": "621ac19b",
   "metadata": {},
   "outputs": [],
   "source": [
    "import matplotlib.pyplot as plt\n",
    "import numpy as np\n",
    "import pandas as pd\n",
    "from scipy import stats"
   ]
  },
  {
   "cell_type": "markdown",
   "id": "0da5bf2c",
   "metadata": {},
   "source": [
    "> A bank found that the average number of cars waiting during the noon hour at a drive-up window follows a Poisson distribution with a mean of 2 cars. Make a chart of this distribution and answer these questions concerning the probability of cars waiting at the drive-up window.\n",
    "\n",
    "> What is the probability that no cars drive up in the noon hour?\n",
    "> What is the probability that 3 or more cars come through the drive through?\n",
    "> How likely is it that the drive through gets at least 1 car?"
   ]
  },
  {
   "cell_type": "code",
   "execution_count": 171,
   "id": "5935dc97",
   "metadata": {},
   "outputs": [],
   "source": [
    "μ = 2"
   ]
  },
  {
   "cell_type": "code",
   "execution_count": 5,
   "id": "89a15fcd",
   "metadata": {},
   "outputs": [],
   "source": [
    "λ = 2 # \\lambda\n",
    "cars_at_bank = stats.poisson(λ)"
   ]
  },
  {
   "cell_type": "code",
   "execution_count": 9,
   "id": "c1d4bb3f",
   "metadata": {},
   "outputs": [
    {
     "data": {
      "image/png": "[encoded data removed]",
      "text/plain": [
       "<Figure size 640x480 with 1 Axes>"
      ]
     },
     "metadata": {},
     "output_type": "display_data"
    }
   ],
   "source": [
    "# visual\n",
    "x = np.arange(1, 9)\n",
    "y = [cars_at_bank.pmf(i) for i in x]\n",
    "plt.bar(x, y)\n",
    "plt.title('Prob Distro of Cars ')\n",
    "plt.xlabel('hours')\n",
    "plt.ylabel('Prob of Cars at Drive In');"
   ]
  },
  {
   "cell_type": "code",
   "execution_count": 11,
   "id": "ff426df9",
   "metadata": {},
   "outputs": [
    {
     "data": {
      "text/plain": [
       "0.1353352832366127"
      ]
     },
     "execution_count": 11,
     "metadata": {},
     "output_type": "execute_result"
    }
   ],
   "source": [
    "cars_at_bank.pmf(0)"
   ]
  },
  {
   "cell_type": "code",
   "execution_count": 207,
   "id": "b9c54975",
   "metadata": {},
   "outputs": [
    {
     "data": {
      "text/plain": [
       "0.1353352832366127"
      ]
     },
     "execution_count": 207,
     "metadata": {},
     "output_type": "execute_result"
    }
   ],
   "source": [
    "cars_at_bank"
   ]
  },
  {
   "cell_type": "code",
   "execution_count": 10,
   "id": "56b2d57f",
   "metadata": {},
   "outputs": [
    {
     "data": {
      "text/plain": [
       "0.14287653950145296"
      ]
     },
     "execution_count": 10,
     "metadata": {},
     "output_type": "execute_result"
    }
   ],
   "source": [
    "cars_at_bank.sf(3)"
   ]
  },
  {
   "cell_type": "code",
   "execution_count": 12,
   "id": "e907665d",
   "metadata": {},
   "outputs": [
    {
     "data": {
      "text/plain": [
       "0.40600584970983794"
      ]
     },
     "execution_count": 12,
     "metadata": {},
     "output_type": "execute_result"
    }
   ],
   "source": [
    "cars_at_bank.cdf(1)"
   ]
  },
  {
   "cell_type": "code",
   "execution_count": 211,
   "id": "601c870d",
   "metadata": {
    "scrolled": false
   },
   "outputs": [
    {
     "data": {
      "text/plain": [
       "0.40600584970983794"
      ]
     },
     "execution_count": 211,
     "metadata": {},
     "output_type": "execute_result"
    }
   ],
   "source": [
    "cars_at_bank"
   ]
  },
  {
   "cell_type": "markdown",
   "id": "e909d979",
   "metadata": {},
   "source": [
    "> Grades of State University graduates are normally distributed with a mean of 3.0 and a standard deviation of .3. \n",
    "    > Calculate the following:\n",
    "    > What grade point average is required to be in the top 5% of the graduating class?        \n",
    "    > What GPA constitutes the bottom 15% of the class?\n",
    "    > An eccentric alumnus left scholarship money for students in the third decile from the bottom of their class. Determine the range of the third decile. Would a student with a 2.8 grade point average qualify for this scholarship?\n",
    "    > If I have a GPA of 3.5, what percentile am I in?"
   ]
  },
  {
   "cell_type": "code",
   "execution_count": 14,
   "id": "f78b37f1",
   "metadata": {},
   "outputs": [],
   "source": [
    "μ = 3 # mean \\mu\n",
    "σ = 0.3 #std \\sigma"
   ]
  },
  {
   "cell_type": "code",
   "execution_count": 15,
   "id": "8b5480ba",
   "metadata": {},
   "outputs": [],
   "source": [
    "# create the distribution, continous distro\n",
    "univ_grades = stats.norm(μ, σ)"
   ]
  },
  {
   "cell_type": "code",
   "execution_count": 16,
   "id": "c5c073c5",
   "metadata": {},
   "outputs": [
    {
     "data": {
      "text/plain": [
       "3.4934560880854417"
      ]
     },
     "execution_count": 16,
     "metadata": {},
     "output_type": "execute_result"
    }
   ],
   "source": [
    "univ_grades.isf(.05)"
   ]
  },
  {
   "cell_type": "code",
   "execution_count": 25,
   "id": "e38d0351",
   "metadata": {},
   "outputs": [
    {
     "data": {
      "text/plain": [
       "3.310930016848137"
      ]
     },
     "execution_count": 25,
     "metadata": {},
     "output_type": "execute_result"
    }
   ],
   "source": [
    "univ_grades.ppf(.85)"
   ]
  },
  {
   "cell_type": "code",
   "execution_count": 20,
   "id": "f7b79cc2",
   "metadata": {},
   "outputs": [
    {
     "data": {
      "text/plain": [
       "2.689069983151863"
      ]
     },
     "execution_count": 20,
     "metadata": {},
     "output_type": "execute_result"
    }
   ],
   "source": [
    "univ_grades.ppf(.15)"
   ]
  },
  {
   "cell_type": "code",
   "execution_count": 21,
   "id": "668892ac",
   "metadata": {
    "scrolled": true
   },
   "outputs": [
    {
     "data": {
      "text/plain": [
       "2.7475136299281258"
      ]
     },
     "execution_count": 21,
     "metadata": {},
     "output_type": "execute_result"
    }
   ],
   "source": [
    "univ_grades.ppf(0.2)"
   ]
  },
  {
   "cell_type": "code",
   "execution_count": 22,
   "id": "ad7c8ef7",
   "metadata": {},
   "outputs": [
    {
     "data": {
      "text/plain": [
       "2.842679846187588"
      ]
     },
     "execution_count": 22,
     "metadata": {},
     "output_type": "execute_result"
    }
   ],
   "source": [
    "univ_grades.ppf(0.3)"
   ]
  },
  {
   "cell_type": "code",
   "execution_count": 23,
   "id": "2d8197b5",
   "metadata": {},
   "outputs": [
    {
     "data": {
      "text/plain": [
       "2.6155345303366198"
      ]
     },
     "execution_count": 23,
     "metadata": {},
     "output_type": "execute_result"
    }
   ],
   "source": [
    "univ_grades.ppf(0.1)"
   ]
  },
  {
   "cell_type": "code",
   "execution_count": 233,
   "id": "26fa0bb1",
   "metadata": {},
   "outputs": [
    {
     "data": {
      "text/plain": [
       "0.9522096477271853"
      ]
     },
     "execution_count": 233,
     "metadata": {},
     "output_type": "execute_result"
    }
   ],
   "source": [
    "univ_grades.cdf(3.5)"
   ]
  },
  {
   "cell_type": "code",
   "execution_count": 229,
   "id": "2b786d29",
   "metadata": {},
   "outputs": [
    {
     "data": {
      "text/plain": [
       "0.9995709396668032"
      ]
     },
     "execution_count": 229,
     "metadata": {},
     "output_type": "execute_result"
    }
   ],
   "source": [
    "univ_grades.cdf(4.0)"
   ]
  },
  {
   "cell_type": "markdown",
   "id": "f3b3fc1c",
   "metadata": {},
   "source": [
    "> A marketing website has an average click-through rate of 2%. One day they observe 4326 visitors and 97 click-throughs. How likely is it that this many people or more click through?"
   ]
  },
  {
   "cell_type": "code",
   "execution_count": 27,
   "id": "34398f7b",
   "metadata": {},
   "outputs": [],
   "source": [
    "cr = .02 # prob of sucess\n",
    "v = 4326 # number of trials\n",
    "ct = 97 # number of click throughs"
   ]
  },
  {
   "cell_type": "code",
   "execution_count": 28,
   "id": "5fa0512c",
   "metadata": {},
   "outputs": [],
   "source": [
    "#Here we have a probability of success, 0.25, and a number of trials, 30. \n",
    "# We'll define X as the number of questions we get right on the test. \n",
    "# We want to know the probability that X > 10, which tells us we want to use the survival function.\n",
    "\n",
    "# stats.binom(30, .25).sf(10)\n",
    "# 0.10572812269266013"
   ]
  },
  {
   "cell_type": "code",
   "execution_count": 29,
   "id": "b2f6a0b6",
   "metadata": {},
   "outputs": [],
   "source": [
    "prob_clicks_thru = stats.binom(v, cr)"
   ]
  },
  {
   "cell_type": "code",
   "execution_count": 31,
   "id": "0a0538bb",
   "metadata": {},
   "outputs": [
    {
     "data": {
      "text/plain": [
       "0.13975823631416448"
      ]
     },
     "execution_count": 31,
     "metadata": {},
     "output_type": "execute_result"
    }
   ],
   "source": [
    "prob_clicks_thru.sf(96)"
   ]
  },
  {
   "cell_type": "code",
   "execution_count": 32,
   "id": "3677da01",
   "metadata": {},
   "outputs": [
    {
     "data": {
      "text/plain": [
       "0.8602417636858355"
      ]
     },
     "execution_count": 32,
     "metadata": {},
     "output_type": "execute_result"
    }
   ],
   "source": [
    "prob_clicks_thru.cdf(96)"
   ]
  },
  {
   "cell_type": "markdown",
   "id": "22aadb0c",
   "metadata": {},
   "source": [
    "> You are working on some statistics homework consisting of 100 questions where all of the answers are a probability rounded to the hundreths place. Looking to save time, you put down random probabilities as the answer to each question.What is the probability that at least one of your first 60 answers is correct?"
   ]
  },
  {
   "cell_type": "code",
   "execution_count": 264,
   "id": "94466f83",
   "metadata": {},
   "outputs": [],
   "source": [
    "n = 100 #number of trials"
   ]
  },
  {
   "cell_type": "code",
   "execution_count": 265,
   "id": "75828d72",
   "metadata": {},
   "outputs": [],
   "source": [
    "statistic_questions = stats.randint(1, 101)"
   ]
  },
  {
   "cell_type": "code",
   "execution_count": 284,
   "id": "f1a22904",
   "metadata": {},
   "outputs": [
    {
     "data": {
      "text/plain": [
       "0.016666666666666666"
      ]
     },
     "execution_count": 284,
     "metadata": {},
     "output_type": "execute_result"
    }
   ],
   "source": [
    "1/60"
   ]
  },
  {
   "cell_type": "code",
   "execution_count": 36,
   "id": "d34f903f",
   "metadata": {
    "scrolled": true
   },
   "outputs": [
    {
     "data": {
      "text/plain": [
       "0.45284335760923855"
      ]
     },
     "execution_count": 36,
     "metadata": {},
     "output_type": "execute_result"
    }
   ],
   "source": [
    "stats.binom(60, .01).sf(0)"
   ]
  },
  {
   "cell_type": "markdown",
   "id": "eb87304a",
   "metadata": {},
   "source": [
    " > Suppose that there's a 3% chance that any one student cleans the break area when they visit it, and, on any given day, about 90% of the 3 active cohorts of 22 students visit the break area. How likely is it that the break area gets cleaned up each day? How likely is it that it goes two days without getting cleaned up? All week?"
   ]
  },
  {
   "cell_type": "code",
   "execution_count": null,
   "id": "6561a3fd",
   "metadata": {},
   "outputs": [],
   "source": [
    "student_cleans = 0.03\n",
    "break_room_visitors = 60\n",
    "days = 7"
   ]
  },
  {
   "cell_type": "code",
   "execution_count": 38,
   "id": "c10389f0",
   "metadata": {},
   "outputs": [],
   "source": [
    "trials = 3 * 22 * .9"
   ]
  },
  {
   "cell_type": "code",
   "execution_count": 39,
   "id": "eb168351",
   "metadata": {},
   "outputs": [
    {
     "data": {
      "text/plain": [
       "59.4"
      ]
     },
     "execution_count": 39,
     "metadata": {},
     "output_type": "execute_result"
    }
   ],
   "source": [
    "trails"
   ]
  },
  {
   "cell_type": "code",
   "execution_count": 37,
   "id": "46957e0c",
   "metadata": {},
   "outputs": [
    {
     "data": {
      "text/plain": [
       "0.8391933309784232"
      ]
     },
     "execution_count": 37,
     "metadata": {},
     "output_type": "execute_result"
    }
   ],
   "source": [
    "stats.binom(60, .03).sf(0)"
   ]
  },
  {
   "cell_type": "code",
   "execution_count": 45,
   "id": "98cd6520",
   "metadata": {},
   "outputs": [
    {
     "data": {
      "text/plain": [
       "0.0016810117546042288"
      ]
     },
     "execution_count": 45,
     "metadata": {},
     "output_type": "execute_result"
    }
   ],
   "source": [
    "stats.binom(60, .03).pmf(7)"
   ]
  },
  {
   "cell_type": "code",
   "execution_count": 43,
   "id": "f343f799",
   "metadata": {},
   "outputs": [
    {
     "data": {
      "text/plain": [
       "0.2984041280812768"
      ]
     },
     "execution_count": 43,
     "metadata": {},
     "output_type": "execute_result"
    }
   ],
   "source": [
    "stats.binom(60, .03).pmf(1)"
   ]
  },
  {
   "cell_type": "code",
   "execution_count": 44,
   "id": "2834cdac",
   "metadata": {},
   "outputs": [
    {
     "data": {
      "text/plain": [
       "0.27225531273394876"
      ]
     },
     "execution_count": 44,
     "metadata": {},
     "output_type": "execute_result"
    }
   ],
   "source": [
    "stats.binom(60, .03).pmf(2)"
   ]
  },
  {
   "cell_type": "markdown",
   "id": "2887fb51",
   "metadata": {},
   "source": [
    "> You want to get lunch at La Panaderia, but notice that the line is usually very long at lunchtime. After several weeks of careful observation, you notice that the average number of people in line when your lunch break starts is normally distributed with a mean of 15 and standard deviation of 3. If it takes 2 minutes for each person to order, and 10 minutes from ordering to getting your food, what is the likelihood that you have at least 15 minutes left to eat your food before you have to go back to class? Assume you have one hour for lunch, and ignore travel time to and from La Panaderia."
   ]
  },
  {
   "cell_type": "code",
   "execution_count": 46,
   "id": "4add04aa",
   "metadata": {},
   "outputs": [],
   "source": [
    "μ = 15 * 2\n",
    "σ = 3 * 2\n",
    "order_time_mins = 2\n",
    "food_arrival_mins = 10\n",
    "lunch_break_mins = 60"
   ]
  },
  {
   "cell_type": "code",
   "execution_count": 47,
   "id": "4f92ca9f",
   "metadata": {},
   "outputs": [],
   "source": [
    "# create the distribution, continous distro\n",
    "lunch_return_time = stats.norm(μ, σ)"
   ]
  },
  {
   "cell_type": "code",
   "execution_count": 51,
   "id": "d1abbbd1",
   "metadata": {},
   "outputs": [
    {
     "data": {
      "text/plain": [
       "0.6914624612740131"
      ]
     },
     "execution_count": 51,
     "metadata": {},
     "output_type": "execute_result"
    }
   ],
   "source": [
    "lunch_return_time.cdf(33)"
   ]
  },
  {
   "cell_type": "markdown",
   "id": "76e371c2",
   "metadata": {},
   "source": [
    "> Connect to the employees database and find the average salary of current employees, along with the standard deviation. For the following questions, calculate the answer based on modeling the employees salaries with a normal distribution defined by the calculated mean and standard deviation then compare this answer to the actual values present in the salaries dataset.\n",
    "\n",
    "> What percent of employees earn less than 60,000?\n",
    "> What percent of employees earn more than 95,000?\n",
    "> What percent of employees earn between 65,000 and 80,000?\n",
    "> What do the top 5% of employees make?\n"
   ]
  },
  {
   "cell_type": "code",
   "execution_count": 2,
   "id": "587b32b4",
   "metadata": {},
   "outputs": [],
   "source": [
    "import pandas as pd"
   ]
  },
  {
   "cell_type": "code",
   "execution_count": 3,
   "id": "e36f51ed",
   "metadata": {},
   "outputs": [],
   "source": [
    "emp_salaries = pd.read_csv('salaries.csv')"
   ]
  },
  {
   "cell_type": "code",
   "execution_count": 4,
   "id": "f79b9b42",
   "metadata": {},
   "outputs": [
    {
     "data": {
      "text/html": [
       "<div>\n",
       "<style scoped>\n",
       "    .dataframe tbody tr th:only-of-type {\n",
       "        vertical-align: middle;\n",
       "    }\n",
       "\n",
       "    .dataframe tbody tr th {\n",
       "        vertical-align: top;\n",
       "    }\n",
       "\n",
       "    .dataframe thead th {\n",
       "        text-align: right;\n",
       "    }\n",
       "</style>\n",
       "<table border=\"1\" class=\"dataframe\">\n",
       "  <thead>\n",
       "    <tr style=\"text-align: right;\">\n",
       "      <th></th>\n",
       "      <th>emp_no</th>\n",
       "      <th>salary</th>\n",
       "      <th>from_date</th>\n",
       "      <th>to_date</th>\n",
       "    </tr>\n",
       "  </thead>\n",
       "  <tbody>\n",
       "    <tr>\n",
       "      <th>0</th>\n",
       "      <td>10001</td>\n",
       "      <td>88958</td>\n",
       "      <td>2002-06-22</td>\n",
       "      <td>9999-01-01</td>\n",
       "    </tr>\n",
       "    <tr>\n",
       "      <th>1</th>\n",
       "      <td>10002</td>\n",
       "      <td>72527</td>\n",
       "      <td>2001-08-02</td>\n",
       "      <td>9999-01-01</td>\n",
       "    </tr>\n",
       "    <tr>\n",
       "      <th>2</th>\n",
       "      <td>10003</td>\n",
       "      <td>43311</td>\n",
       "      <td>2001-12-01</td>\n",
       "      <td>9999-01-01</td>\n",
       "    </tr>\n",
       "    <tr>\n",
       "      <th>3</th>\n",
       "      <td>10004</td>\n",
       "      <td>74057</td>\n",
       "      <td>2001-11-27</td>\n",
       "      <td>9999-01-01</td>\n",
       "    </tr>\n",
       "    <tr>\n",
       "      <th>4</th>\n",
       "      <td>10005</td>\n",
       "      <td>94692</td>\n",
       "      <td>2001-09-09</td>\n",
       "      <td>9999-01-01</td>\n",
       "    </tr>\n",
       "    <tr>\n",
       "      <th>...</th>\n",
       "      <td>...</td>\n",
       "      <td>...</td>\n",
       "      <td>...</td>\n",
       "      <td>...</td>\n",
       "    </tr>\n",
       "    <tr>\n",
       "      <th>240119</th>\n",
       "      <td>499995</td>\n",
       "      <td>52868</td>\n",
       "      <td>2002-06-01</td>\n",
       "      <td>9999-01-01</td>\n",
       "    </tr>\n",
       "    <tr>\n",
       "      <th>240120</th>\n",
       "      <td>499996</td>\n",
       "      <td>69501</td>\n",
       "      <td>2002-05-12</td>\n",
       "      <td>9999-01-01</td>\n",
       "    </tr>\n",
       "    <tr>\n",
       "      <th>240121</th>\n",
       "      <td>499997</td>\n",
       "      <td>83441</td>\n",
       "      <td>2001-08-26</td>\n",
       "      <td>9999-01-01</td>\n",
       "    </tr>\n",
       "    <tr>\n",
       "      <th>240122</th>\n",
       "      <td>499998</td>\n",
       "      <td>55003</td>\n",
       "      <td>2001-12-25</td>\n",
       "      <td>9999-01-01</td>\n",
       "    </tr>\n",
       "    <tr>\n",
       "      <th>240123</th>\n",
       "      <td>499999</td>\n",
       "      <td>77303</td>\n",
       "      <td>2001-11-29</td>\n",
       "      <td>9999-01-01</td>\n",
       "    </tr>\n",
       "  </tbody>\n",
       "</table>\n",
       "<p>240124 rows × 4 columns</p>\n",
       "</div>"
      ],
      "text/plain": [
       "        emp_no  salary   from_date     to_date\n",
       "0        10001   88958  2002-06-22  9999-01-01\n",
       "1        10002   72527  2001-08-02  9999-01-01\n",
       "2        10003   43311  2001-12-01  9999-01-01\n",
       "3        10004   74057  2001-11-27  9999-01-01\n",
       "4        10005   94692  2001-09-09  9999-01-01\n",
       "...        ...     ...         ...         ...\n",
       "240119  499995   52868  2002-06-01  9999-01-01\n",
       "240120  499996   69501  2002-05-12  9999-01-01\n",
       "240121  499997   83441  2001-08-26  9999-01-01\n",
       "240122  499998   55003  2001-12-25  9999-01-01\n",
       "240123  499999   77303  2001-11-29  9999-01-01\n",
       "\n",
       "[240124 rows x 4 columns]"
      ]
     },
     "execution_count": 4,
     "metadata": {},
     "output_type": "execute_result"
    }
   ],
   "source": [
    "emp_salaries"
   ]
  },
  {
   "cell_type": "code",
   "execution_count": 5,
   "id": "6c2d2a05",
   "metadata": {},
   "outputs": [
    {
     "data": {
      "text/html": [
       "<div>\n",
       "<style scoped>\n",
       "    .dataframe tbody tr th:only-of-type {\n",
       "        vertical-align: middle;\n",
       "    }\n",
       "\n",
       "    .dataframe tbody tr th {\n",
       "        vertical-align: top;\n",
       "    }\n",
       "\n",
       "    .dataframe thead th {\n",
       "        text-align: right;\n",
       "    }\n",
       "</style>\n",
       "<table border=\"1\" class=\"dataframe\">\n",
       "  <thead>\n",
       "    <tr style=\"text-align: right;\">\n",
       "      <th></th>\n",
       "      <th>emp_no</th>\n",
       "      <th>salary</th>\n",
       "    </tr>\n",
       "  </thead>\n",
       "  <tbody>\n",
       "    <tr>\n",
       "      <th>count</th>\n",
       "      <td>240124.000000</td>\n",
       "      <td>240124.000000</td>\n",
       "    </tr>\n",
       "    <tr>\n",
       "      <th>mean</th>\n",
       "      <td>253080.615365</td>\n",
       "      <td>72012.235857</td>\n",
       "    </tr>\n",
       "    <tr>\n",
       "      <th>std</th>\n",
       "      <td>161853.087323</td>\n",
       "      <td>17309.995380</td>\n",
       "    </tr>\n",
       "    <tr>\n",
       "      <th>min</th>\n",
       "      <td>10001.000000</td>\n",
       "      <td>38623.000000</td>\n",
       "    </tr>\n",
       "    <tr>\n",
       "      <th>25%</th>\n",
       "      <td>84878.750000</td>\n",
       "      <td>59048.750000</td>\n",
       "    </tr>\n",
       "    <tr>\n",
       "      <th>50%</th>\n",
       "      <td>249792.500000</td>\n",
       "      <td>69805.000000</td>\n",
       "    </tr>\n",
       "    <tr>\n",
       "      <th>75%</th>\n",
       "      <td>424895.250000</td>\n",
       "      <td>82546.000000</td>\n",
       "    </tr>\n",
       "    <tr>\n",
       "      <th>max</th>\n",
       "      <td>499999.000000</td>\n",
       "      <td>158220.000000</td>\n",
       "    </tr>\n",
       "  </tbody>\n",
       "</table>\n",
       "</div>"
      ],
      "text/plain": [
       "              emp_no         salary\n",
       "count  240124.000000  240124.000000\n",
       "mean   253080.615365   72012.235857\n",
       "std    161853.087323   17309.995380\n",
       "min     10001.000000   38623.000000\n",
       "25%     84878.750000   59048.750000\n",
       "50%    249792.500000   69805.000000\n",
       "75%    424895.250000   82546.000000\n",
       "max    499999.000000  158220.000000"
      ]
     },
     "execution_count": 5,
     "metadata": {},
     "output_type": "execute_result"
    }
   ],
   "source": [
    "emp_salaries.describe()"
   ]
  },
  {
   "cell_type": "code",
   "execution_count": 6,
   "id": "b932edf7",
   "metadata": {},
   "outputs": [],
   "source": [
    "σ = emp_salaries.salary.std()"
   ]
  },
  {
   "cell_type": "code",
   "execution_count": 7,
   "id": "55920391",
   "metadata": {},
   "outputs": [],
   "source": [
    "μ = emp_salaries.salary.mean()"
   ]
  },
  {
   "cell_type": "code",
   "execution_count": 10,
   "id": "8042b76e",
   "metadata": {},
   "outputs": [],
   "source": [
    "emp_salary_dist = stats.norm(μ , σ)"
   ]
  },
  {
   "cell_type": "code",
   "execution_count": 11,
   "id": "649bbb78",
   "metadata": {},
   "outputs": [
    {
     "data": {
      "text/plain": [
       "0.24385742480214423"
      ]
     },
     "execution_count": 11,
     "metadata": {},
     "output_type": "execute_result"
    }
   ],
   "source": [
    "emp_salary_dist.cdf(60000)"
   ]
  },
  {
   "cell_type": "code",
   "execution_count": 12,
   "id": "180e4635",
   "metadata": {},
   "outputs": [
    {
     "data": {
      "text/plain": [
       "9.21"
      ]
     },
     "execution_count": 12,
     "metadata": {},
     "output_type": "execute_result"
    }
   ],
   "source": [
    "round(emp_salary_dist.sf(95000) * 100, 2)"
   ]
  },
  {
   "cell_type": "code",
   "execution_count": 13,
   "id": "f4b8238c",
   "metadata": {},
   "outputs": [
    {
     "data": {
      "text/plain": [
       "array([0.34270292, 0.67776349])"
      ]
     },
     "execution_count": 13,
     "metadata": {},
     "output_type": "execute_result"
    }
   ],
   "source": [
    "emp_salary_dist.cdf((65000,80000))"
   ]
  },
  {
   "cell_type": "code",
   "execution_count": 15,
   "id": "8a3a7235",
   "metadata": {},
   "outputs": [
    {
     "data": {
      "text/plain": [
       "100485"
      ]
     },
     "execution_count": 15,
     "metadata": {},
     "output_type": "execute_result"
    }
   ],
   "source": [
    "round(emp_salary_dist.isf(0.05))"
   ]
  }
 ],
 "metadata": {
  "kernelspec": {
   "display_name": "Python 3 (ipykernel)",
   "language": "python",
   "name": "python3"
  },
  "language_info": {
   "codemirror_mode": {
    "name": "ipython",
    "version": 3
   },
   "file_extension": ".py",
   "mimetype": "text/x-python",
   "name": "python",
   "nbconvert_exporter": "python",
   "pygments_lexer": "ipython3",
   "version": "3.9.13"
  }
 },
 "nbformat": 4,
 "nbformat_minor": 5
}
